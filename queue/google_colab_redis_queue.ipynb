{
  "nbformat": 4,
  "nbformat_minor": 0,
  "metadata": {
    "colab": {
      "name": "google_colab_redis_queue.ipynb",
      "provenance": [],
      "collapsed_sections": []
    },
    "kernelspec": {
      "name": "python3",
      "display_name": "Python 3"
    },
    "language_info": {
      "name": "python"
    }
  },
  "cells": [
    {
      "cell_type": "markdown",
      "source": [
        "# Redis. Как реализовать очередь"
      ],
      "metadata": {
        "id": "9XtAAmyxEryQ"
      }
    },
    {
      "cell_type": "code",
      "execution_count": null,
      "metadata": {
        "id": "rOEyby6qEU_y"
      },
      "outputs": [],
      "source": [
        "%%capture\n",
        "!pip install redis-server redis"
      ]
    },
    {
      "cell_type": "code",
      "source": [
        "import redis_server"
      ],
      "metadata": {
        "id": "eeNbKjUuE2VG"
      },
      "execution_count": null,
      "outputs": []
    },
    {
      "cell_type": "code",
      "source": [
        "!$redis_server.REDIS_SERVER_PATH --daemonize yes"
      ],
      "metadata": {
        "id": "puQzBo7VE33e"
      },
      "execution_count": null,
      "outputs": []
    },
    {
      "cell_type": "code",
      "source": [
        "import redis"
      ],
      "metadata": {
        "id": "-VElPp01E56O"
      },
      "execution_count": null,
      "outputs": []
    },
    {
      "cell_type": "code",
      "source": [
        "client = redis.Redis(host = 'localhost', port=6379)"
      ],
      "metadata": {
        "id": "SF2kV6rAE7m-"
      },
      "execution_count": null,
      "outputs": []
    },
    {
      "cell_type": "code",
      "source": [
        "client.ping()"
      ],
      "metadata": {
        "colab": {
          "base_uri": "https://localhost:8080/"
        },
        "id": "7qdZThBnE9OZ",
        "outputId": "cc8a3a38-16ec-45b2-b70a-919cc2ced7fb"
      },
      "execution_count": null,
      "outputs": [
        {
          "output_type": "execute_result",
          "data": {
            "text/plain": [
              "True"
            ]
          },
          "metadata": {},
          "execution_count": 6
        }
      ]
    },
    {
      "cell_type": "code",
      "source": [
        "def add_value_to_queue (val:int, redis_client = client)->None:\n",
        "  \"\"\"Добавить трансформированное значение в очередь\"\"\"\n",
        "  val = val + 100\n",
        "  redis_client.lpush(\"test_queue\",val)"
      ],
      "metadata": {
        "id": "lLkawHrUFAWO"
      },
      "execution_count": null,
      "outputs": []
    },
    {
      "cell_type": "code",
      "source": [
        "def get_value_from_queue (name_queue:str=\"test_queue\", redis_client=client)->None:\n",
        "  \"\"\"Получить значение из очереди\"\"\"\n",
        "  val = redis_client.rpop(name_queue).decode(\"utf-8\")\n",
        "  return val"
      ],
      "metadata": {
        "id": "ytOTXI1CGOOW"
      },
      "execution_count": null,
      "outputs": []
    },
    {
      "cell_type": "code",
      "source": [
        "for i in range(10):\n",
        "  add_value_to_queue(i)\n",
        "  current_val = get_value_from_queue()\n",
        "  print(current_val)"
      ],
      "metadata": {
        "colab": {
          "base_uri": "https://localhost:8080/"
        },
        "id": "TlRzQclbG9V2",
        "outputId": "b1eb4617-0721-441a-e9ec-50a846045e35"
      },
      "execution_count": null,
      "outputs": [
        {
          "output_type": "stream",
          "name": "stdout",
          "text": [
            "100\n",
            "101\n",
            "102\n",
            "103\n",
            "104\n",
            "105\n",
            "106\n",
            "107\n",
            "108\n",
            "109\n"
          ]
        }
      ]
    }
  ]
}