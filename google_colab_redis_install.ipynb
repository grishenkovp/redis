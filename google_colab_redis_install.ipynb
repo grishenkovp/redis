{
  "nbformat": 4,
  "nbformat_minor": 0,
  "metadata": {
    "colab": {
      "name": "google_colab_redis_install.ipynb",
      "provenance": [],
      "collapsed_sections": []
    },
    "kernelspec": {
      "name": "python3",
      "display_name": "Python 3"
    },
    "language_info": {
      "name": "python"
    }
  },
  "cells": [
    {
      "cell_type": "markdown",
      "source": [
        "# Запуск Redis в Google Colab Python"
      ],
      "metadata": {
        "id": "HpzAWNe2cLZj"
      }
    },
    {
      "cell_type": "code",
      "execution_count": 1,
      "metadata": {
        "id": "0PTaejVScCXV"
      },
      "outputs": [],
      "source": [
        "%%capture\n",
        "!pip install redis-server redis"
      ]
    },
    {
      "cell_type": "code",
      "source": [
        "import redis_server"
      ],
      "metadata": {
        "id": "llfi8rV9cWDa"
      },
      "execution_count": 2,
      "outputs": []
    },
    {
      "cell_type": "code",
      "source": [
        "!$redis_server.REDIS_SERVER_PATH --daemonize yes"
      ],
      "metadata": {
        "id": "2zJLwwiWcY5S"
      },
      "execution_count": 3,
      "outputs": []
    },
    {
      "cell_type": "code",
      "source": [
        "import redis"
      ],
      "metadata": {
        "id": "Nj1p_oPvchdJ"
      },
      "execution_count": 4,
      "outputs": []
    },
    {
      "cell_type": "code",
      "source": [
        "client = redis.Redis(host = 'localhost', port=6379)"
      ],
      "metadata": {
        "id": "N7EtNfOLcbuy"
      },
      "execution_count": 5,
      "outputs": []
    },
    {
      "cell_type": "code",
      "source": [
        "client.ping()"
      ],
      "metadata": {
        "colab": {
          "base_uri": "https://localhost:8080/"
        },
        "id": "XEO_jTtpclf6",
        "outputId": "8655170c-42de-4c21-c06c-352712540ab7"
      },
      "execution_count": 6,
      "outputs": [
        {
          "output_type": "execute_result",
          "data": {
            "text/plain": [
              "True"
            ]
          },
          "metadata": {},
          "execution_count": 6
        }
      ]
    },
    {
      "cell_type": "code",
      "source": [
        "client.set('x1', 'y1')"
      ],
      "metadata": {
        "colab": {
          "base_uri": "https://localhost:8080/"
        },
        "id": "fzOHpZeecx6y",
        "outputId": "5f25663d-cb35-4e91-d8de-cd530131244f"
      },
      "execution_count": 7,
      "outputs": [
        {
          "output_type": "execute_result",
          "data": {
            "text/plain": [
              "True"
            ]
          },
          "metadata": {},
          "execution_count": 7
        }
      ]
    },
    {
      "cell_type": "code",
      "source": [
        "client.get('x1')"
      ],
      "metadata": {
        "colab": {
          "base_uri": "https://localhost:8080/"
        },
        "id": "YA9PfG6yc3E4",
        "outputId": "b8c4851c-9363-4e59-b74f-f45d5dbf4aec"
      },
      "execution_count": 8,
      "outputs": [
        {
          "output_type": "execute_result",
          "data": {
            "text/plain": [
              "b'y1'"
            ]
          },
          "metadata": {},
          "execution_count": 8
        }
      ]
    }
  ]
}